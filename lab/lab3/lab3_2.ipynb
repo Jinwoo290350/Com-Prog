{
 "cells": [
  {
   "cell_type": "code",
   "execution_count": null,
   "id": "8acee785",
   "metadata": {},
   "outputs": [],
   "source": []
  },
  {
   "cell_type": "code",
   "execution_count": null,
   "id": "be11e543",
   "metadata": {},
   "outputs": [],
   "source": [
    "from math import pi,cos,sin\n",
    "\n",
    "value = sin(pi/2) + cos(pi/2)\n",
    "print(value)"
   ]
  }
 ],
 "metadata": {
  "language_info": {
   "name": "python"
  }
 },
 "nbformat": 4,
 "nbformat_minor": 5
}
