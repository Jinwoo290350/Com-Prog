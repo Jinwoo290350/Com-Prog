{
 "cells": [
  {
   "cell_type": "code",
   "execution_count": null,
   "id": "9e3d3653",
   "metadata": {},
   "outputs": [
    {
     "name": "stdout",
     "output_type": "stream",
     "text": [
      "Output list: [[0, -3], [-5, -8]]\n"
     ]
    }
   ],
   "source": [
    "# two pointer method \n",
    "\n",
    "class Runner():\n",
    "    def __init__(self):\n",
    "        self.input_val = None\n",
    "        self.result = []\n",
    "        self.seen = set()\n",
    "        self.get_input()\n",
    "\n",
    "    def get_input(self):\n",
    "        self.input_val = [int(i) for i in input('Enter list of number: ').split(' ')]\n",
    "\n",
    "    def brute_force(self):\n",
    "        for i in range(len(self.input_val)):\n",
    "            for j in range(i, len(self.input_val)):\n",
    "                left = self.input_val[i]\n",
    "                right = self.input_val[j]\n",
    "                if left != right and left not in self.seen and right not in self.seen:\n",
    "                    if (abs(left) - abs(right)) % 3 == 0:\n",
    "                        self.result.append([left,right])\n",
    "\n",
    "                        self.seen.add(left)\n",
    "                        self.seen.add(right)\n",
    "        return \n",
    "\n",
    "    def run(self):\n",
    "        self.brute_force()\n",
    "        print(f\"Output list: {self.result}\")\n",
    "\n",
    "runner = Runner()\n",
    "runner.run()"
   ]
  },
  {
   "cell_type": "code",
   "execution_count": 76,
   "id": "13a7fac6",
   "metadata": {},
   "outputs": [
    {
     "data": {
      "text/plain": [
       "[[0, 3], [4, 7]]"
      ]
     },
     "execution_count": 76,
     "metadata": {},
     "output_type": "execute_result"
    }
   ],
   "source": [
    "\n",
    "runner.result"
   ]
  },
  {
   "cell_type": "code",
   "execution_count": null,
   "id": "7797daa3",
   "metadata": {},
   "outputs": [],
   "source": []
  },
  {
   "cell_type": "code",
   "execution_count": null,
   "id": "244e1103",
   "metadata": {},
   "outputs": [],
   "source": []
  }
 ],
 "metadata": {
  "kernelspec": {
   "display_name": "base3.10",
   "language": "python",
   "name": "python3"
  },
  "language_info": {
   "codemirror_mode": {
    "name": "ipython",
    "version": 3
   },
   "file_extension": ".py",
   "mimetype": "text/x-python",
   "name": "python",
   "nbconvert_exporter": "python",
   "pygments_lexer": "ipython3",
   "version": "3.10.16"
  }
 },
 "nbformat": 4,
 "nbformat_minor": 5
}
