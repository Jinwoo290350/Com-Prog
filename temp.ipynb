{
 "cells": [
  {
   "cell_type": "code",
   "execution_count": null,
   "id": "9e3d3653",
   "metadata": {},
   "outputs": [
    {
     "name": "stdout",
     "output_type": "stream",
     "text": [
      "Liverpool is the champion of Premier League.\n"
     ]
    }
   ],
   "source": []
  },
  {
   "cell_type": "code",
   "execution_count": 11,
   "id": "1e8eddc9",
   "metadata": {},
   "outputs": [
    {
     "name": "stdout",
     "output_type": "stream",
     "text": [
      "x\n",
      "xx\n",
      "xxx\n",
      "xxxx\n",
      "xxxxx\n",
      "xxxx\n",
      "xxx\n",
      "xx\n",
      "x\n"
     ]
    }
   ],
   "source": [
    "\n",
    "class Runner():\n",
    "    def __init__(self):\n",
    "        self.nums = None\n",
    "        self.text = \"x\"\n",
    "        self.get_input()\n",
    "\n",
    "    def get_input(self):\n",
    "        status = True\n",
    "        while status:\n",
    "            nums_input = int(input(\"Input number: \"))\n",
    "            if nums_input % 2 == 0:\n",
    "                print(\"Please input odd number\")\n",
    "            else:\n",
    "                self.nums = nums_input\n",
    "                status = False\n",
    "\n",
    "    def run(self):\n",
    "        for i in range(1, self.nums * 2):\n",
    "            print(self.text * (self.nums - abs(self.nums - i)),end=\"\\n\")\n",
    "\n",
    "        pass\n",
    "\n",
    "\n",
    "runner = Runner()\n",
    "runner.run()"
   ]
  },
  {
   "cell_type": "code",
   "execution_count": null,
   "id": "49bbf428",
   "metadata": {},
   "outputs": [],
   "source": []
  }
 ],
 "metadata": {
  "kernelspec": {
   "display_name": "base3.10",
   "language": "python",
   "name": "python3"
  },
  "language_info": {
   "codemirror_mode": {
    "name": "ipython",
    "version": 3
   },
   "file_extension": ".py",
   "mimetype": "text/x-python",
   "name": "python",
   "nbconvert_exporter": "python",
   "pygments_lexer": "ipython3",
   "version": "3.10.16"
  }
 },
 "nbformat": 4,
 "nbformat_minor": 5
}
